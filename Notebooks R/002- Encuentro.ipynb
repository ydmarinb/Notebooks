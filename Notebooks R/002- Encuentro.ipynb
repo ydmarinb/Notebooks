{
 "cells": [
  {
   "cell_type": "markdown",
   "metadata": {},
   "source": [
    "# Tareas 1"
   ]
  },
  {
   "cell_type": "markdown",
   "metadata": {},
   "source": [
    "Haga un algoritmo en R que permita, registrar las siguientes características de un número (n) de personas. \n",
    "\n",
    "1) Genero\n",
    "* M\n",
    "* F\n",
    "\n",
    "2) Edad en años\n",
    "\n",
    "3) Se encuentra trabajando o ha trabajado\n",
    "* S\n",
    "* N\n",
    "\n",
    "4) Cuál es su lenguaje de programación favorito<br>\n",
    "a) Python<br>\n",
    "b) R<br>\n",
    "<br>\n",
    "\n",
    "5) Cuál es su mayor interés al estar en el semillero <br>\n",
    "a Programación <br>\n",
    "b) Analítica de datos<br>\n",
    "c) Inteligencia Artificial <br>\n",
    "d) La comunidad<br>\n",
    "<br>\n",
    "\n",
    "El algoritmo permitirá elegir cuál es el numero (n) de personas a registrar. \n",
    "Permitirá al usuario ingresar mayúsculas o minúsculas en la respuesta de selección múltiple.\n",
    "Permitirá revisar la información ingresada por el ultimo usuario que se registró.\n",
    "Permitirá revisar la información de todos los usuarios que se registraron.\n",
    "Permitirá mostrar la edad promedio y la frecuencia del género de todos los usuarios registrados.  \n",
    "\n",
    "\n"
   ]
  },
  {
   "cell_type": "code",
   "execution_count": null,
   "metadata": {},
   "outputs": [],
   "source": []
  }
 ],
 "metadata": {
  "kernelspec": {
   "display_name": "R",
   "language": "R",
   "name": "ir"
  },
  "latex_envs": {
   "LaTeX_envs_menu_present": true,
   "autoclose": false,
   "autocomplete": true,
   "bibliofile": "biblio.bib",
   "cite_by": "apalike",
   "current_citInitial": 1,
   "eqLabelWithNumbers": true,
   "eqNumInitial": 1,
   "hotkeys": {
    "equation": "Ctrl-E",
    "itemize": "Ctrl-I"
   },
   "labels_anchors": false,
   "latex_user_defs": false,
   "report_style_numbering": false,
   "user_envs_cfg": false
  }
 },
 "nbformat": 4,
 "nbformat_minor": 2
}
